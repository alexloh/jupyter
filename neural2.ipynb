{
 "cells": [
  {
   "cell_type": "markdown",
   "id": "1b27b6a5-0e56-4237-aae5-c695b344f05d",
   "metadata": {},
   "source": [
    "2nd attempt at making my own simple neural network!"
   ]
  },
  {
   "cell_type": "code",
   "execution_count": null,
   "id": "99528c92-c31b-4140-b157-e1aff15a270a",
   "metadata": {
    "tags": []
   },
   "outputs": [],
   "source": [
    "import numpy as np\n",
    "\n",
    "def sigmoid(x):\n",
    "    return 1/(1 + np.exp(-x))\n",
    "def sigmoid_derivative(x):\n",
    "    return x * (1 - x)\n",
    "\n",
    "class NeuralNet:\n",
    "    # What is the type of x and y???\n",
    "    def __init__(self, x, y):\n",
    "        self.x = x\n",
    "        self.y = y\n",
    "        self.input = self.x\n",
    "        self.weights1 = np.random.rand(x.shape[1], 2)\n",
    "        self.weights2 = np.random.rand(2, 1)\n",
    "        self.output = np.zeros(self.y.shape)\n",
    "        self.learning_rate = 1\n",
    "\n",
    "    def feedforward(self):\n",
    "        self.layer1 = sigmoid(np.dot(self.input, self.weights1))\n",
    "        self.output = sigmoid(np.dot(self.layer1, self.weights2))\n",
    "\n",
    "    def backpropagate(self):\n",
    "        d_weights2 = np.dot(self.layer1.T, (2*(self.y - self.output) * sigmoid_derivative(self.output)))\n",
    "        d_weights1 = np.dot(self.input.T,  (np.dot(2*(self.y - self.output) * sigmoid_derivative(self.output), self.weights2.T) * sigmoid_derivative(self.layer1)))\n",
    "        self.weights1 += d_weights1 * self.learning_rate\n",
    "        self.weights2 += d_weights2 * self.learning_rate\n",
    "\n",
    "    def test(self, input):\n",
    "        layer1 = sigmoid(np.dot(input, self.weights1))\n",
    "        return sigmoid(np.dot(layer1, self.weights2))\n",
    "\n",
    "    def display(self):\n",
    "        print()\n",
    "        print(\"Neural network with 1 hidden layer of size 2\")\n",
    "        print(f\"Current loss: {self.loss()}\")\n",
    "        print(f\"Inputs: {self.input}\")\n",
    "        print(f\"Outputs: {self.output}\")\n",
    "        print(f\"Weights1: {self.weights1}\")\n",
    "        print(f\"Weights2: {self.weights2}\")\n",
    "\n",
    "    def loss(self):\n",
    "        return np.average((self.y - self.output) ** 2)\n",
    "\n",
    "    def mean_of_square_errors(predicted, actual):\n",
    "        if len(predicted) != len(actual):\n",
    "            sys.exit(\"mean_of_square_errors: Predict and actual are different length\")\n",
    "        sum = 0\n",
    "        for i in range(len(predicted)):\n",
    "            sum += (predicted[i] - actual[i]) ** 2\n",
    "        return sum / len(predicted)\n",
    "\n",
    "x = np.array([ [0], [0.5], [1] ])\n",
    "y = np.array([ [0], [1], [0] ])\n",
    "\n",
    "nn = NeuralNet(x,y)\n",
    "\n",
    "nn.feedforward()\n",
    "for i in range(20):\n",
    "    nn.backpropagate()\n",
    "    nn.feedforward()\n",
    "\n",
    "nn.display()\n",
    "\n",
    "print(nn.test(np.array([[0], [0.5], [1]])))"
   ]
  },
  {
   "cell_type": "code",
   "execution_count": null,
   "id": "ef51604c-34e1-41eb-9a9e-0144518b2ce2",
   "metadata": {},
   "outputs": [],
   "source": []
  }
 ],
 "metadata": {
  "kernelspec": {
   "display_name": "Python 3 (ipykernel)",
   "language": "python",
   "name": "python3"
  },
  "language_info": {
   "codemirror_mode": {
    "name": "ipython",
    "version": 3
   },
   "file_extension": ".py",
   "mimetype": "text/x-python",
   "name": "python",
   "nbconvert_exporter": "python",
   "pygments_lexer": "ipython3",
   "version": "3.10.6"
  }
 },
 "nbformat": 4,
 "nbformat_minor": 5
}
